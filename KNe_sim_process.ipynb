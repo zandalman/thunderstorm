{
 "cells": [
  {
   "cell_type": "code",
   "execution_count": 64,
   "id": "5d7da0e6",
   "metadata": {},
   "outputs": [],
   "source": [
    "import os\n",
    "import numpy as np\n",
    "import matplotlib.pyplot as plt\n",
    "import const\n",
    "from subprocess import check_output\n",
    "from types import SimpleNamespace\n",
    "from helper import *\n"
   ]
  },
  {
   "cell_type": "code",
   "execution_count": 79,
   "id": "f9263018",
   "metadata": {},
   "outputs": [],
   "source": [
    "base_path = os.path.join('..', 'KNexplosions')\n"
   ]
  },
  {
   "cell_type": "code",
   "execution_count": 136,
   "id": "ac833834",
   "metadata": {},
   "outputs": [],
   "source": [
    "run = 17\n",
    "\n",
    "# get paths\n",
    "sim_path   = os.path.join(base_path, 'runhr%d' % run)\n",
    "shock_path = os.path.join(base_path, 'runhr%d.79' % run)\n",
    "\n",
    "# get metadata\n",
    "setup_path = os.path.join(sim_path, 'setup.f')\n",
    "Mej = float(check_output([\"grep\", \"mej=\", setup_path]).decode(\"utf-8\")[10:]) * const.M_sol\n",
    "vej = float(check_output([\"grep\", \"v(i)=\", setup_path]).decode(\"utf-8\").split('\\n')[-3].split('/')[0][17:-2]) * 1e9\n",
    "nH_cgm = float(check_output([\"grep\", \"rhot=max(\", setup_path]).decode(\"utf-8\").split('/')[0][21:])\n",
    "\n",
    "# get file list\n",
    "file_list = np.array([filename for filename in os.listdir(sim_path) if filename[2:].isdigit()])\n",
    "idx_sorted = np.argsort([int(filename[2:]) for filename in file_list])\n",
    "file_list = file_list[idx_sorted]\n",
    "nfile = len(file_list)\n"
   ]
  },
  {
   "cell_type": "code",
   "execution_count": 137,
   "id": "89d1ba57",
   "metadata": {},
   "outputs": [],
   "source": [
    "# create dictionary to store data\n",
    "data = {}\n",
    "\n",
    "# define columns and units in simulation data files\n",
    "col_name_list_sim = np.array(['zone', 'Menc', 'r', 'rho', 'vel', 'unknown1', 'unknown2', 'unknown3'])\n",
    "col_unit_list_sim = np.array([1, const.M_sol, 1, 1, 1, 1, 1, 1])\n",
    "\n",
    "# get number of zones\n",
    "with open(os.path.join(sim_path, file_list[0]), 'r') as f: \n",
    "    nzone = len(f.readlines())\n",
    "\n",
    "# create empty arrays for simulation data\n",
    "for col_name in col_name_list_sim: \n",
    "    data[col_name] = np.zeros((nfile, nzone))\n",
    "    \n",
    "# read simulation data\n",
    "for i, filename in enumerate(file_list):\n",
    "    with open(os.path.join(sim_path, filename), 'r') as f: lines = f.readlines()\n",
    "    for j, line in enumerate(lines):\n",
    "        if j >= nzone: continue # sometimes, there are empty lines at the end of a file\n",
    "        line_split = line.split()\n",
    "        for k, col_name in enumerate(col_name_list_sim):\n",
    "            data[col_name][i, j] = float(line_split[k]) * col_unit_list_sim[k]\n",
    "\n",
    "# define columns and units in shock data file\n",
    "col_name_list_shock = np.array(['dump', 'unknown4', 'time', 'rho_shock', 'vel_shock', 'unknown5', 'unknown6', 'temp_shock'])\n",
    "col_unit_list_shock = np.array([1, 1, const.day, 1, 1, 1, 1, 1])\n",
    "\n",
    "# get number of time steps\n",
    "with open(shock_path, 'r') as f:\n",
    "    nstep = len(f.readlines())\n",
    "\n",
    "# create empty arrays for shock data\n",
    "for col_name in col_name_list_shock:\n",
    "    data[col_name] = np.zeros(nstep)\n",
    "    \n",
    "# read shock data\n",
    "with open(shock_path) as f: lines = f.readlines()\n",
    "for j, line in enumerate(lines):\n",
    "    line_split = line.split()\n",
    "    for k, col_name in enumerate(col_name_list_shock):\n",
    "        data[col_name][j] = float(line_split[k]) * col_unit_list_shock[k]\n",
    "\n",
    "np.savez(sim_path, **data, Mej=Mej, vej=vej, nH_cgm=nH_cgm)\n"
   ]
  },
  {
   "cell_type": "code",
   "execution_count": null,
   "id": "846469d9",
   "metadata": {},
   "outputs": [],
   "source": []
  }
 ],
 "metadata": {
  "kernelspec": {
   "display_name": "Python 3 (ipykernel)",
   "language": "python",
   "name": "python3"
  },
  "language_info": {
   "codemirror_mode": {
    "name": "ipython",
    "version": 3
   },
   "file_extension": ".py",
   "mimetype": "text/x-python",
   "name": "python",
   "nbconvert_exporter": "python",
   "pygments_lexer": "ipython3",
   "version": "3.11.4"
  }
 },
 "nbformat": 4,
 "nbformat_minor": 5
}
