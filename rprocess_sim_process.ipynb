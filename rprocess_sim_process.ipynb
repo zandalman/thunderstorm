{
 "cells": [
  {
   "cell_type": "code",
   "execution_count": 301,
   "id": "890b3145",
   "metadata": {},
   "outputs": [],
   "source": [
    "import os\n",
    "import numpy as np\n",
    "import matplotlib.pyplot as plt\n",
    "import const\n",
    "from subprocess import check_output\n",
    "from types import SimpleNamespace\n",
    "from helper import *\n"
   ]
  },
  {
   "cell_type": "code",
   "execution_count": 344,
   "id": "28e4dc67",
   "metadata": {},
   "outputs": [],
   "source": [
    "sim = 'weak'\n",
    "\n",
    "# get paths\n",
    "base_path = os.path.join('..', 'rprocess', sim)\n",
    "ab_path   = os.path.join(base_path, 'ab')\n",
    "spec_path = os.path.join(base_path, 'betaspec')\n"
   ]
  },
  {
   "cell_type": "code",
   "execution_count": 345,
   "id": "66015288",
   "metadata": {},
   "outputs": [],
   "source": [
    "# get line numbers for each timestep\n",
    "idx_line_newstep_list = np.array(check_output([\"awk\", \"/timestep/{ print NR }\", ab_path]).decode(\"utf-8\").split('\\n'))[:-1].astype(int)\n",
    "nstep = idx_line_newstep_list.size\n",
    "\n",
    "# create arrays to store abundance data\n",
    "step = np.zeros(nstep, dtype=int)\n",
    "time = np.zeros(nstep)\n",
    "rho = np.zeros(nstep)\n",
    "temp = np.zeros(nstep)\n",
    "\n",
    "Zmax = 118\n",
    "ab_elem = np.zeros((nstep, Zmax+1))\n",
    "A_avg   = np.zeros((nstep, Zmax+1))\n",
    "ab_iso  = np.empty((nstep, Zmax+1), dtype=object)\n",
    "\n",
    "for i in range(nstep):\n",
    "    for Z in range(Zmax+1):\n",
    "        ab_iso[i, Z] = [], []\n",
    "\n",
    "# read abundance data\n",
    "with open(ab_path, 'r') as f: lines = f.readlines()\n",
    "\n",
    "for i in range(nstep):\n",
    "    \n",
    "    idx_line_info = idx_line_newstep_list[i]-1\n",
    "    line_info_split = lines[idx_line_info].split()\n",
    "    \n",
    "    step[i] = int(line_info_split[1])\n",
    "    time[i] = float(line_info_split[3])\n",
    "    rho[i] = float(line_info_split[7])\n",
    "    temp[i] = float(line_info_split[5]) * 1e9\n",
    "    \n",
    "    idx_line_min = idx_line_newstep_list[i]\n",
    "    idx_line_max = idx_line_newstep_list[i+1]-2 if i < nstep-1 else -1\n",
    "    lines_data = lines[idx_line_min:idx_line_max]\n",
    "\n",
    "    for line in lines_data:\n",
    "    \n",
    "        line_split = line.split()\n",
    "        Z = int(line_split[0])\n",
    "        A = int(line_split[1])\n",
    "        ab = float(line_split[2])\n",
    "\n",
    "        ab_iso[i, Z][0].append(A)\n",
    "        ab_iso[i, Z][1].append(ab)\n",
    "        ab_elem[i, Z] += ab\n",
    "        A_avg[i, Z]   += A*ab\n",
    "        \n",
    "    for Z in range(Zmax+1):\n",
    "        if A_avg[i, Z] > 0: A_avg[i, Z] /= ab_elem[i, Z]\n"
   ]
  },
  {
   "cell_type": "code",
   "execution_count": 346,
   "id": "23049bb6",
   "metadata": {},
   "outputs": [],
   "source": [
    "# get file list\n",
    "file_list = np.array([filename for filename in os.listdir(spec_path) if filename != 'meta.dat'])\n",
    "idx_sorted = np.argsort([int(filename.split('_')[2][1:]) for filename in file_list])\n",
    "file_list = file_list[idx_sorted]\n"
   ]
  },
  {
   "cell_type": "code",
   "execution_count": 347,
   "id": "57f07a72",
   "metadata": {},
   "outputs": [],
   "source": [
    "# create energy array\n",
    "with open(os.path.join(spec_path, file_list[0]), 'r') as f: lines = f.readlines()\n",
    "ener = []\n",
    "for j, line in enumerate(lines[1:-1]):\n",
    "    ener.append(float(line.split()[0]) * 1e6)\n",
    "ener = np.array(ener)\n",
    "nstep = step.size\n",
    "nener = ener.size\n",
    "\n",
    "# create arrays to store spectrum data\n",
    "beta_spec = np.zeros((nstep, nener))\n",
    "gam_spec  = np.zeros((nstep, nener))\n",
    "nu_spec   = np.zeros((nstep, nener))\n",
    "\n",
    "# read spectrum data\n",
    "for i, filename in enumerate(file_list):\n",
    "    \n",
    "    filename = file_list[i]\n",
    "    with open(os.path.join(spec_path, filename), 'r') as f: lines = f.readlines()\n",
    "\n",
    "    for j, line in enumerate(lines[1:-1]):\n",
    "    \n",
    "        line_split = line.split()\n",
    "        beta_spec[i, j] = float(line_split[1]) / 1e6\n",
    "        gam_spec[i, j]  = float(line_split[2]) / 1e6\n",
    "        nu_spec[i, j]   = float(line_split[3]) / 1e6\n",
    "    "
   ]
  },
  {
   "cell_type": "code",
   "execution_count": 348,
   "id": "e0ed5a2a",
   "metadata": {},
   "outputs": [],
   "source": [
    "np.savez(base_path, step=step, time=time, rho=rho, temp=temp, ab_elem=ab_elem, ab_iso=ab_iso, A_avg=A_avg, ener=ener, beta_spec=beta_spec, gam_spec=gam_spec, nu_spec=nu_spec)\n"
   ]
  },
  {
   "cell_type": "code",
   "execution_count": null,
   "id": "692c1edb",
   "metadata": {},
   "outputs": [],
   "source": []
  }
 ],
 "metadata": {
  "kernelspec": {
   "display_name": "Python 3 (ipykernel)",
   "language": "python",
   "name": "python3"
  },
  "language_info": {
   "codemirror_mode": {
    "name": "ipython",
    "version": 3
   },
   "file_extension": ".py",
   "mimetype": "text/x-python",
   "name": "python",
   "nbconvert_exporter": "python",
   "pygments_lexer": "ipython3",
   "version": "3.11.4"
  }
 },
 "nbformat": 4,
 "nbformat_minor": 5
}
